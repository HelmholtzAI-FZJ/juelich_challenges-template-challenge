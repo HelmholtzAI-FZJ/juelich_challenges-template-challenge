{
 "cells": [
  {
   "cell_type": "markdown",
   "metadata": {
    "id": "0yAIJhY1M41M"
   },
   "source": [
    "# The XXX challenge"
   ]
  },
  {
   "cell_type": "markdown",
   "metadata": {},
   "source": [
    "Please provide a logo"
   ]
  },
  {
   "cell_type": "markdown",
   "metadata": {
    "id": "NQyQqzQTM41O"
   },
   "source": [
    "<img src=\"\" alt=\"logo\" width=\"400\"/>"
   ]
  },
  {
   "cell_type": "markdown",
   "metadata": {},
   "source": [
    "Please give a short description of your challenge"
   ]
  },
  {
   "cell_type": "markdown",
   "metadata": {},
   "source": [
    "# Requirements"
   ]
  },
  {
   "cell_type": "code",
   "execution_count": 67,
   "metadata": {},
   "outputs": [],
   "source": [
    "!pip install pandas torch torchvision scikit-learn # please put requirements here"
   ]
  },
  {
   "cell_type": "markdown",
   "metadata": {
    "id": "6bejqMsnM41a"
   },
   "source": [
    "## Donwloading the data\n",
    "\n",
    "Please describe the steps to download the data:"
   ]
  },
  {
   "cell_type": "markdown",
   "metadata": {},
   "source": [
    "The full data is around 5GB. In order to start quickly we also provide a subset of the training data here:"
   ]
  },
  {
   "cell_type": "code",
   "execution_count": 1,
   "metadata": {
    "scrolled": true
   },
   "outputs": [
    {
     "name": "stdout",
     "output_type": "stream",
     "text": [
      "--2020-10-02 08:42:27--  http://xxxx/\r\n",
      "Resolving xxxx (xxxx)... failed: Temporary failure in name resolution.\r\n",
      "wget: unable to resolve host address ‘xxxx’\r\n"
     ]
    }
   ],
   "source": [
    "!wget XXXX"
   ]
  },
  {
   "cell_type": "code",
   "execution_count": 2,
   "metadata": {
    "colab": {
     "base_uri": "https://localhost:8080/",
     "height": 34
    },
    "id": "rLuX23mznCg5",
    "outputId": "d4903e59-bcac-46af-8c39-20ff324f551f"
   },
   "outputs": [
    {
     "name": "stdout",
     "output_type": "stream",
     "text": [
      "README.md    challenge_config.yaml  logo.jpg\t    run.sh  templates\r\n",
      "annotations  evaluation_script\t    notebook.ipynb  tags\r\n"
     ]
    }
   ],
   "source": [
    "!ls"
   ]
  },
  {
   "cell_type": "markdown",
   "metadata": {
    "id": "QIeCjvyTM418"
   },
   "source": [
    "# Exploratory Data Analysis\n",
    "\n",
    "Please provide different cells that explore a little bit\n",
    "the data with some nice visualizations.\n",
    "\n",
    "Possibilities:\n",
    "\n",
    "- Class Frequencies\n",
    "- Plots\n",
    "- Show different examples\n",
    "- Summary Statistics\n",
    "- etc."
   ]
  },
  {
   "cell_type": "code",
   "execution_count": null,
   "metadata": {},
   "outputs": [],
   "source": []
  },
  {
   "cell_type": "code",
   "execution_count": null,
   "metadata": {},
   "outputs": [],
   "source": []
  },
  {
   "cell_type": "code",
   "execution_count": null,
   "metadata": {},
   "outputs": [],
   "source": []
  },
  {
   "cell_type": "code",
   "execution_count": null,
   "metadata": {},
   "outputs": [],
   "source": []
  },
  {
   "cell_type": "code",
   "execution_count": null,
   "metadata": {},
   "outputs": [],
   "source": []
  },
  {
   "cell_type": "code",
   "execution_count": null,
   "metadata": {},
   "outputs": [],
   "source": []
  },
  {
   "cell_type": "markdown",
   "metadata": {
    "id": "ffcOqQaepyRE"
   },
   "source": [
    "# Dummy Submission"
   ]
  },
  {
   "cell_type": "markdown",
   "metadata": {},
   "source": [
    "Please provide a dummy submission.\n",
    "Here a CSV submission example should be generated, no training would be involved,\n",
    "it can be constant classifier model for instance (sklearn's DummyClassifier for instance).\n",
    "It's the simplest example for the participants to start with."
   ]
  },
  {
   "cell_type": "code",
   "execution_count": null,
   "metadata": {},
   "outputs": [],
   "source": [
    "# the following cells should generate submission.csv"
   ]
  },
  {
   "cell_type": "code",
   "execution_count": null,
   "metadata": {},
   "outputs": [],
   "source": []
  },
  {
   "cell_type": "code",
   "execution_count": null,
   "metadata": {},
   "outputs": [],
   "source": []
  },
  {
   "cell_type": "markdown",
   "metadata": {},
   "source": []
  },
  {
   "cell_type": "code",
   "execution_count": 3,
   "metadata": {},
   "outputs": [
    {
     "name": "stdout",
     "output_type": "stream",
     "text": [
      "head: cannot open 'submission.csv' for reading: No such file or directory\r\n"
     ]
    }
   ],
   "source": [
    "!head submission.csv"
   ]
  },
  {
   "cell_type": "markdown",
   "metadata": {},
   "source": [
    "Now, you can open the submision.csv file (File -> Open) file and download it!\n",
    "\n",
    "After you download it, you can upload it to the frontend, here: XXX (direct link to the challenge)"
   ]
  },
  {
   "cell_type": "markdown",
   "metadata": {},
   "source": [
    "# Baseline simple solution"
   ]
  },
  {
   "cell_type": "markdown",
   "metadata": {},
   "source": [
    "Please provide a simple baselne submission.\n",
    "Here a CSV submission example should be generated,  training\n",
    "will be involved but it should be very fast (matter of seconds),\n",
    "and the solution should be a good starting point"
   ]
  },
  {
   "cell_type": "code",
   "execution_count": 6,
   "metadata": {},
   "outputs": [],
   "source": [
    "# the following cells should generate submission.csv"
   ]
  },
  {
   "cell_type": "code",
   "execution_count": null,
   "metadata": {},
   "outputs": [],
   "source": []
  },
  {
   "cell_type": "code",
   "execution_count": null,
   "metadata": {},
   "outputs": [],
   "source": []
  },
  {
   "cell_type": "code",
   "execution_count": null,
   "metadata": {},
   "outputs": [],
   "source": []
  },
  {
   "cell_type": "code",
   "execution_count": null,
   "metadata": {},
   "outputs": [],
   "source": []
  },
  {
   "cell_type": "markdown",
   "metadata": {
    "id": "zKcxwPiyM42x"
   },
   "source": [
    "Now, you can open the submision.csv file (File -> Open) file and download it!\n",
    "\n",
    "After you download it, you can upload it to the frontend, here: XXX (direct link to the challenge)"
   ]
  }
 ],
 "metadata": {
  "accelerator": "GPU",
  "colab": {
   "collapsed_sections": [],
   "name": "notebook.ipynb",
   "provenance": []
  },
  "kernelspec": {
   "display_name": "Python 3",
   "language": "python",
   "name": "python3"
  },
  "language_info": {
   "codemirror_mode": {
    "name": "ipython",
    "version": 3
   },
   "file_extension": ".py",
   "mimetype": "text/x-python",
   "name": "python",
   "nbconvert_exporter": "python",
   "pygments_lexer": "ipython3",
   "version": "3.6.9"
  }
 },
 "nbformat": 4,
 "nbformat_minor": 1
}
